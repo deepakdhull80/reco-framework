{
 "cells": [
  {
   "cell_type": "code",
   "execution_count": 50,
   "id": "275c15f4-4275-4636-a672-4d18f7159383",
   "metadata": {},
   "outputs": [],
   "source": [
    "import torch\n",
    "import torch.nn.functional as F\n",
    "from torch.utils.data import DataLoader, Dataset\n",
    "\n",
    "import numpy as np\n",
    "import pandas as pd\n",
    "import matplotlib.pyplot as plt"
   ]
  },
  {
   "cell_type": "code",
   "execution_count": 37,
   "id": "16904097-780a-4bb7-b34c-7cc58fd63e97",
   "metadata": {},
   "outputs": [],
   "source": [
    "# Constants\n",
    "class Filter:\n",
    "    min_seq_len: int = 10\n",
    "    max_seq_len: int = 200\n",
    "\n",
    "class Experiment:\n",
    "    filter = Filter()"
   ]
  },
  {
   "cell_type": "code",
   "execution_count": 38,
   "id": "55c03e65-f615-4c50-b12e-acd0ed1e4d57",
   "metadata": {},
   "outputs": [],
   "source": [
    "exp = Experiment()"
   ]
  },
  {
   "cell_type": "code",
   "execution_count": null,
   "id": "6fc4d85a-2b4d-4a28-95f4-e3f2c01fff77",
   "metadata": {},
   "outputs": [],
   "source": []
  },
  {
   "cell_type": "code",
   "execution_count": 11,
   "id": "cc51bf1b-33d5-471e-8f90-07fa8fd59c1a",
   "metadata": {},
   "outputs": [],
   "source": [
    "file_path = \"/Users/deepak.dhull/data/recsys/ml-1m/ratings.dat\""
   ]
  },
  {
   "cell_type": "code",
   "execution_count": 12,
   "id": "a30e58bf-be31-4dcc-8113-11c87f692370",
   "metadata": {},
   "outputs": [],
   "source": [
    "ratings = pd.read_csv(file_path, delimiter='::', engine='python', \n",
    "                      names=['user_id', 'movie_id', 'rating', 'timestamp'])"
   ]
  },
  {
   "cell_type": "code",
   "execution_count": 14,
   "id": "3400a3ff-afad-4747-8881-82b69337f69b",
   "metadata": {},
   "outputs": [
    {
     "data": {
      "text/html": [
       "<div>\n",
       "<style scoped>\n",
       "    .dataframe tbody tr th:only-of-type {\n",
       "        vertical-align: middle;\n",
       "    }\n",
       "\n",
       "    .dataframe tbody tr th {\n",
       "        vertical-align: top;\n",
       "    }\n",
       "\n",
       "    .dataframe thead th {\n",
       "        text-align: right;\n",
       "    }\n",
       "</style>\n",
       "<table border=\"1\" class=\"dataframe\">\n",
       "  <thead>\n",
       "    <tr style=\"text-align: right;\">\n",
       "      <th></th>\n",
       "      <th>user_id</th>\n",
       "      <th>movie_id</th>\n",
       "      <th>rating</th>\n",
       "      <th>timestamp</th>\n",
       "    </tr>\n",
       "  </thead>\n",
       "  <tbody>\n",
       "    <tr>\n",
       "      <th>0</th>\n",
       "      <td>1</td>\n",
       "      <td>1193</td>\n",
       "      <td>5</td>\n",
       "      <td>978300760</td>\n",
       "    </tr>\n",
       "    <tr>\n",
       "      <th>1</th>\n",
       "      <td>1</td>\n",
       "      <td>661</td>\n",
       "      <td>3</td>\n",
       "      <td>978302109</td>\n",
       "    </tr>\n",
       "    <tr>\n",
       "      <th>2</th>\n",
       "      <td>1</td>\n",
       "      <td>914</td>\n",
       "      <td>3</td>\n",
       "      <td>978301968</td>\n",
       "    </tr>\n",
       "    <tr>\n",
       "      <th>3</th>\n",
       "      <td>1</td>\n",
       "      <td>3408</td>\n",
       "      <td>4</td>\n",
       "      <td>978300275</td>\n",
       "    </tr>\n",
       "    <tr>\n",
       "      <th>4</th>\n",
       "      <td>1</td>\n",
       "      <td>2355</td>\n",
       "      <td>5</td>\n",
       "      <td>978824291</td>\n",
       "    </tr>\n",
       "  </tbody>\n",
       "</table>\n",
       "</div>"
      ],
      "text/plain": [
       "   user_id  movie_id  rating  timestamp\n",
       "0        1      1193       5  978300760\n",
       "1        1       661       3  978302109\n",
       "2        1       914       3  978301968\n",
       "3        1      3408       4  978300275\n",
       "4        1      2355       5  978824291"
      ]
     },
     "execution_count": 14,
     "metadata": {},
     "output_type": "execute_result"
    }
   ],
   "source": [
    "ratings.head()"
   ]
  },
  {
   "cell_type": "code",
   "execution_count": 17,
   "id": "ae00f107-e0f5-4da3-aa10-b344c6464e4b",
   "metadata": {},
   "outputs": [],
   "source": [
    "def func(df: pd.DataFrame):\n",
    "    item_seq = df.sort_values(by=['timestamp'], ascending=True)['movie_id'].tolist()\n",
    "    rating_seq = df.sort_values(by=['timestamp'], ascending=True)['rating'].tolist()\n",
    "    return item_seq, rating_seq\n",
    "\n",
    "user_seq_df = ratings.groupby('user_id').apply(func)"
   ]
  },
  {
   "cell_type": "code",
   "execution_count": 21,
   "id": "ce3fd2e0-e065-4f74-a887-e26bd66071cd",
   "metadata": {},
   "outputs": [],
   "source": [
    "user_seq_df = user_seq_df.reset_index().rename(columns={0: 'sequence'})"
   ]
  },
  {
   "cell_type": "code",
   "execution_count": 27,
   "id": "f504add5-23af-49f7-8cda-bfcf3b348cbe",
   "metadata": {},
   "outputs": [],
   "source": [
    "user_seq_df['seq_length'] = user_seq_df['sequence'].map(lambda x: len(x[0]))"
   ]
  },
  {
   "cell_type": "code",
   "execution_count": 41,
   "id": "36655331-d02b-4a15-81d5-660803505a6d",
   "metadata": {},
   "outputs": [
    {
     "data": {
      "text/plain": [
       "(6040, 3)"
      ]
     },
     "execution_count": 41,
     "metadata": {},
     "output_type": "execute_result"
    }
   ],
   "source": [
    "user_seq_df.shape"
   ]
  },
  {
   "cell_type": "code",
   "execution_count": 43,
   "id": "62d26987-d7ed-4af8-a40e-4b753f03e0f0",
   "metadata": {},
   "outputs": [],
   "source": [
    "filters = (user_seq_df['seq_length'] >= exp.filter.min_seq_len) & \\\n",
    "            (user_seq_df['seq_length'] <= exp.filter.max_seq_len)"
   ]
  },
  {
   "cell_type": "code",
   "execution_count": 45,
   "id": "f5ca4485-d07b-46de-ab69-cd3d907186ae",
   "metadata": {},
   "outputs": [],
   "source": [
    "user_seq_df = user_seq_df[filters]"
   ]
  },
  {
   "cell_type": "code",
   "execution_count": 51,
   "id": "88a78085-5f66-4a28-b9df-556dc2d6892e",
   "metadata": {},
   "outputs": [
    {
     "data": {
      "text/html": [
       "<div>\n",
       "<style scoped>\n",
       "    .dataframe tbody tr th:only-of-type {\n",
       "        vertical-align: middle;\n",
       "    }\n",
       "\n",
       "    .dataframe tbody tr th {\n",
       "        vertical-align: top;\n",
       "    }\n",
       "\n",
       "    .dataframe thead th {\n",
       "        text-align: right;\n",
       "    }\n",
       "</style>\n",
       "<table border=\"1\" class=\"dataframe\">\n",
       "  <thead>\n",
       "    <tr style=\"text-align: right;\">\n",
       "      <th></th>\n",
       "      <th>user_id</th>\n",
       "      <th>sequence</th>\n",
       "      <th>seq_length</th>\n",
       "    </tr>\n",
       "  </thead>\n",
       "  <tbody>\n",
       "    <tr>\n",
       "      <th>0</th>\n",
       "      <td>1</td>\n",
       "      <td>([3186, 1721, 1022, 1270, 2340, 1836, 3408, 12...</td>\n",
       "      <td>53</td>\n",
       "    </tr>\n",
       "    <tr>\n",
       "      <th>1</th>\n",
       "      <td>2</td>\n",
       "      <td>([1198, 1217, 1210, 2717, 1293, 2943, 1225, 11...</td>\n",
       "      <td>129</td>\n",
       "    </tr>\n",
       "    <tr>\n",
       "      <th>2</th>\n",
       "      <td>3</td>\n",
       "      <td>([593, 2858, 3534, 1968, 1961, 1431, 1266, 137...</td>\n",
       "      <td>51</td>\n",
       "    </tr>\n",
       "    <tr>\n",
       "      <th>3</th>\n",
       "      <td>4</td>\n",
       "      <td>([1210, 1097, 3468, 3527, 480, 260, 1196, 1198...</td>\n",
       "      <td>21</td>\n",
       "    </tr>\n",
       "    <tr>\n",
       "      <th>4</th>\n",
       "      <td>5</td>\n",
       "      <td>([2717, 919, 908, 356, 1250, 2188, 2858, 1127,...</td>\n",
       "      <td>198</td>\n",
       "    </tr>\n",
       "  </tbody>\n",
       "</table>\n",
       "</div>"
      ],
      "text/plain": [
       "   user_id                                           sequence  seq_length\n",
       "0        1  ([3186, 1721, 1022, 1270, 2340, 1836, 3408, 12...          53\n",
       "1        2  ([1198, 1217, 1210, 2717, 1293, 2943, 1225, 11...         129\n",
       "2        3  ([593, 2858, 3534, 1968, 1961, 1431, 1266, 137...          51\n",
       "3        4  ([1210, 1097, 3468, 3527, 480, 260, 1196, 1198...          21\n",
       "4        5  ([2717, 919, 908, 356, 1250, 2188, 2858, 1127,...         198"
      ]
     },
     "execution_count": 51,
     "metadata": {},
     "output_type": "execute_result"
    }
   ],
   "source": [
    "user_seq_df.head()"
   ]
  },
  {
   "cell_type": "code",
   "execution_count": 47,
   "id": "6fa8b7b1-7bf1-42d1-b63a-4fe04cab9ab9",
   "metadata": {},
   "outputs": [
    {
     "data": {
      "image/png": "[encoded data removed]",
      "text/plain": [
       "<Figure size 640x480 with 1 Axes>"
      ]
     },
     "metadata": {},
     "output_type": "display_data"
    }
   ],
   "source": [
    "plt.hist(user_seq_df['seq_length'], bins=60)\n",
    "plt.show()"
   ]
  },
  {
   "cell_type": "code",
   "execution_count": null,
   "id": "cd4498ef-aac3-47da-a438-449c8d48334e",
   "metadata": {},
   "outputs": [],
   "source": []
  },
  {
   "cell_type": "code",
   "execution_count": 52,
   "id": "a687514e-17e2-4b4d-845a-413377c19222",
   "metadata": {},
   "outputs": [],
   "source": [
    "class MovieDataset(Dataset):\n",
    "    def __init__(self, config: Experiment, df: pd.DataFrame):\n",
    "        self.df = df\n",
    "        self.config = config\n",
    "        \n",
    "    def __len__(self):\n",
    "        return self.df.shape[0]\n",
    "\n",
    "    def __getitem__(self, idx):\n",
    "        row = self.df.iloc[idx]\n",
    "        item_ids, ratings = row['sequence']\n",
    "        seq_length = row['seq_length']\n",
    "        item_ids = torch.tensor(item_ids)\n",
    "        ratings = torch.tensor(ratings)\n",
    "        _pad = max(0, self.config.filter.max_seq_len - seq_length)\n",
    "        item_ids = F.pad(item_ids, pad=(0, _pad), value=0).to(torch.long)\n",
    "        ratings = F.pad(ratings, pad=(0, _pad), value=0).to(torch.long)\n",
    "        mask = (item_ids != 0).bool()\n",
    "\n",
    "        return item_ids, ratings, mask"
   ]
  },
  {
   "cell_type": "code",
   "execution_count": 61,
   "id": "755fcce4-bf7a-40b6-b415-99e0080a139c",
   "metadata": {},
   "outputs": [
    {
     "data": {
      "text/plain": [
       "tensor([3186, 1721, 1022, 1270, 2340, 1836, 3408, 1207, 2804,  720, 1193,  260,\n",
       "         919,  608, 2692, 1961, 2028, 3105,  938, 1962, 1035,  150, 2018, 1028,\n",
       "        1097,  914, 2797, 1287, 2762, 1246,  661, 2918,  531, 3114, 2791, 1029,\n",
       "        2321, 1197,  594, 2398, 1545,  527,    1,  588, 2687,  745,  595, 2294,\n",
       "         783, 2355, 1907, 1566,   48])"
      ]
     },
     "execution_count": 61,
     "metadata": {},
     "output_type": "execute_result"
    }
   ],
   "source": [
    "ds = MovieDataset(exp, user_seq_df)\n",
    "inp = next(iter(ds))\n",
    "inp[0][inp[2]]"
   ]
  },
  {
   "cell_type": "code",
   "execution_count": null,
   "id": "8c7ec3e7-0726-49f0-859a-92390a18d9bc",
   "metadata": {},
   "outputs": [],
   "source": []
  },
  {
   "cell_type": "code",
   "execution_count": null,
   "id": "3f713b1e-67a2-4002-8c38-bb4234fdf80f",
   "metadata": {},
   "outputs": [],
   "source": [
    "class "
   ]
  },
  {
   "cell_type": "code",
   "execution_count": 57,
   "id": "17b8c701-2556-42fa-aa5e-d4a9f916eef1",
   "metadata": {},
   "outputs": [],
   "source": []
  },
  {
   "cell_type": "code",
   "execution_count": null,
   "id": "e8d4c634-d943-4046-a851-cabfcf86d084",
   "metadata": {},
   "outputs": [],
   "source": []
  },
  {
   "cell_type": "code",
   "execution_count": null,
   "id": "9bb945ab-7008-4524-bb64-eaf178df85ee",
   "metadata": {},
   "outputs": [],
   "source": []
  },
  {
   "cell_type": "code",
   "execution_count": null,
   "id": "017bcf74-45cc-4a8a-9f94-16a1b58499c3",
   "metadata": {},
   "outputs": [],
   "source": []
  },
  {
   "cell_type": "code",
   "execution_count": null,
   "id": "6c0bb2f8-bc65-4b62-9e63-ac3c42c978e7",
   "metadata": {},
   "outputs": [],
   "source": []
  }
 ],
 "metadata": {
  "kernelspec": {
   "display_name": "dev",
   "language": "python",
   "name": "dev"
  },
  "language_info": {
   "codemirror_mode": {
    "name": "ipython",
    "version": 3
   },
   "file_extension": ".py",
   "mimetype": "text/x-python",
   "name": "python",
   "nbconvert_exporter": "python",
   "pygments_lexer": "ipython3",
   "version": "3.9.16"
  }
 },
 "nbformat": 4,
 "nbformat_minor": 5
}
